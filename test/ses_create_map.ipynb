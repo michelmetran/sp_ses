{
 "cells": [
  {
   "cell_type": "markdown",
   "id": "d3748a55",
   "metadata": {},
   "source": [
    "# Introdução"
   ]
  },
  {
   "cell_type": "code",
   "execution_count": null,
   "id": "ce9d9d05",
   "metadata": {},
   "outputs": [],
   "source": [
    "import os\n",
    "import re\n",
    "import time\n",
    "import json\n",
    "import folium\n",
    "import random\n",
    "import requests\n",
    "import numpy as np\n",
    "import pandas as pd\n",
    "import seaborn as sns\n",
    "import geopandas as gpd\n",
    "from folium import plugins\n",
    "from osgeo import gdal, osr\n",
    "from bs4 import BeautifulSoup\n",
    "from tqdm.notebook import trange, tqdm"
   ]
  },
  {
   "cell_type": "markdown",
   "id": "881ddb7b",
   "metadata": {},
   "source": [
    "<br>\n",
    "\n",
    "# Join Data"
   ]
  },
  {
   "cell_type": "code",
   "execution_count": null,
   "id": "a4173d14",
   "metadata": {},
   "outputs": [],
   "source": [
    "# Lê o arquivo csv com o nome dos municípios\n",
    "df = pd.read_csv(\n",
    "    'https://raw.githubusercontent.com/michelmetran/sp_cfb/main/data/tabs/tab_municipio_ctr.csv',\n",
    ")\n",
    "\n",
    "# Lê o arquivo csv com o nome dos municípios\n",
    "gdf = gpd.read_file(\n",
    "    'https://raw.githubusercontent.com/michelmetran/sp/main/data/shps/sp_250k_wgs84.geojson',\n",
    ")\n",
    "gdf.drop(['municipio_nome'], axis=1, inplace=True)\n",
    "gdf['id_municipio'] = gdf['id_municipio'].astype(int)\n",
    "gdf['geometry'] = gdf.simplify(0.0015)\n",
    "\n",
    "# Merge\n",
    "gdf = gdf.merge(\n",
    "    df,\n",
    "    on='id_municipio',\n",
    "    how='left'\n",
    ")\n",
    "\n",
    "# Results\n",
    "gdf.head()"
   ]
  },
  {
   "cell_type": "markdown",
   "id": "f46983ad",
   "metadata": {},
   "source": [
    "<br>\n",
    "\n",
    "## Create pop up's column"
   ]
  },
  {
   "cell_type": "code",
   "execution_count": null,
   "id": "baef1c54",
   "metadata": {},
   "outputs": [],
   "source": [
    "# Add Field\n",
    "def popup_html(row):\n",
    "    tel1 = str(row['telefone_1']).replace('-', '').replace(')', '').replace('(', '+55').replace(' ', '')\n",
    "    tel2 = str(row['telefone_2']).replace('-', '').replace(')', '').replace('(', '+55').replace(' ', '')\n",
    "    \n",
    "    html = \"\"\"\n",
    "    <div>\n",
    "    <p><b>{}</b> pertence à:\n",
    "    <h4><b>{} - {}</b></h4></p>\n",
    "    <p><b>Sede:</b><br>\n",
    "    {}{}{}\n",
    "    {}\n",
    "    {}\n",
    "    {}</p>\n",
    "    <p><b>Contatos:</b>\n",
    "    {}\n",
    "    {}\n",
    "    {}</p>\n",
    "    <p><b>Diretor:</b><br>\n",
    "    {}</p>\n",
    "    </div>\n",
    "    \"\"\".format(\n",
    "        '' if pd.isnull(row['municipio_nome']) else '{}'.format(row['municipio_nome']),\n",
    "        '' if pd.isnull(row['id_ctr'])         else '{}'.format(row['id_ctr']),\n",
    "        '' if pd.isnull(row['ctr_nome'])       else '{}'.format(row['ctr_nome']),\n",
    "        '' if pd.isnull(row['endereco'])       else '{}'.format(row['endereco']),\n",
    "        '' if pd.isnull(row['numero'])         else ', {}'.format(row['numero']),\n",
    "        '' if pd.isnull(row['complemento'])    else ' - {}'.format(row['complemento']),\n",
    "        '' if pd.isnull(row['bairro'])         else '<br>Bairro: {}'.format(row['bairro']),\n",
    "        '' if pd.isnull(row['municipio_sede']) else '<br>Município: {}'.format(row['municipio_sede']),\n",
    "        '' if pd.isnull(row['cep'])            else '<br>CEP: {}'.format(row['cep']),\n",
    "        '' if pd.isnull(row['telefone_1'])     else '<br>Telefone: <a href=\"tel:{}\">{}</a>'.format(tel1, row['telefone_1']),\n",
    "        '' if pd.isnull(row['telefone_2'])     else ' / <a href=\"tel:{}\">{}</a>'.format(tel2, row['telefone_2']),\n",
    "        '' if pd.isnull(row['email'])          else '<br>E-mail: <a href=\"mailto:{}\">{}</a>'.format(row['email'], row['email']),\n",
    "        '' if pd.isnull(row['diretor'])        else '{}'.format(row['diretor']),\n",
    "    )\n",
    "    \n",
    "    html = html.replace('\\n','')\n",
    "    html = re.sub('\\s\\s+' , ' ', html) # Remove Espaços no meio\n",
    "    html = html.strip()\n",
    "    return html"
   ]
  },
  {
   "cell_type": "code",
   "execution_count": null,
   "id": "b9058de0",
   "metadata": {},
   "outputs": [],
   "source": [
    "# Calculate PopUps\n",
    "gdf['popup'] = gdf.apply(popup_html, axis=1)"
   ]
  },
  {
   "cell_type": "markdown",
   "id": "3d1c6377",
   "metadata": {
    "tags": []
   },
   "source": [
    "<br>\n",
    "\n",
    "## Adjust Table"
   ]
  },
  {
   "cell_type": "code",
   "execution_count": null,
   "id": "385debee",
   "metadata": {
    "tags": []
   },
   "outputs": [],
   "source": [
    "# Delete Columns\n",
    "print(gdf.columns)\n",
    "gdf.drop([\n",
    "    'id_municipio',\n",
    "    'endereco', 'numero', 'bairro',\n",
    "    'municipio_sede', 'cep', 'telefone_1', 'telefone_2',\n",
    "    'complemento', 'email',], axis=1, inplace=True)\n"
   ]
  },
  {
   "cell_type": "code",
   "execution_count": null,
   "id": "43675501",
   "metadata": {},
   "outputs": [],
   "source": [
    "# Save geojson\n",
    "gdf.to_file(\n",
    "    os.path.join('data', 'shps', 'sp_ctr.geojson'),\n",
    "    driver='GeoJSON',\n",
    "    encoding='utf-8'\n",
    ")\n",
    "\n",
    "# Results\n",
    "gdf.head()"
   ]
  },
  {
   "cell_type": "markdown",
   "id": "62fcfd93",
   "metadata": {},
   "source": [
    "## Get Centroid"
   ]
  },
  {
   "cell_type": "code",
   "execution_count": null,
   "id": "3aac78a7",
   "metadata": {},
   "outputs": [],
   "source": [
    "def get_centroid(gdf):\n",
    "    gdf['apenasparacentroid'] = 35\n",
    "    gdf_dissolve = gdf.dissolve(by='apenasparacentroid')\n",
    "    gdf_centroid = gdf_dissolve.representative_point()\n",
    "    gdf = gdf.drop('apenasparacentroid', axis=1)\n",
    "    return [float(gdf_centroid.y), float(gdf_centroid.x)]"
   ]
  },
  {
   "cell_type": "code",
   "execution_count": null,
   "id": "6d226efa",
   "metadata": {},
   "outputs": [],
   "source": [
    "list_centroid = get_centroid(gdf)\n",
    "list_centroid"
   ]
  },
  {
   "cell_type": "markdown",
   "id": "b40cea0a",
   "metadata": {},
   "source": [
    "## Folium"
   ]
  },
  {
   "cell_type": "code",
   "execution_count": null,
   "id": "c5206638",
   "metadata": {},
   "outputs": [],
   "source": [
    "def map_bomb(input_geojson, bbox):\n",
    "    gdf = gpd.read_file(input_geojson)\n",
    "    \n",
    "    # Column with category\n",
    "    col_categories = 'id_ctr'\n",
    "    \n",
    "    # Set palette\n",
    "    palette_polygon = 'Paired'\n",
    "\n",
    "    # Get list of unique values\n",
    "    categories = set(gdf[col_categories])\n",
    "    categories = list(categories)\n",
    "    categories.sort()\n",
    "\n",
    "    # See the palette chosed\n",
    "    pal = sns.color_palette(palette_polygon, n_colors=len(categories))\n",
    "\n",
    "    # Set dictionary\n",
    "    color_polygon = dict(zip(categories, pal.as_hex()))\n",
    "    #color_polygon['Agência Ambiental de Ribeirão Preto'] = '#e699ff'\n",
    "\n",
    "    # Create Map\n",
    "    m = folium.Map(\n",
    "        location=[-22.545968889465207, -49.56185387118866],\n",
    "        zoom_start=6,\n",
    "        min_zoom=6,\n",
    "        max_zoom=11,\n",
    "        max_bounds=True,\n",
    "        min_lon = bbox['min_lon']*(101/100),\n",
    "        max_lon = bbox['max_lon']*(99/100),        \n",
    "        min_lat = bbox['min_lat']*(101/100),\n",
    "        max_lat = bbox['max_lat']*(99/100),\n",
    "        #zoom_delta=0.1,\n",
    "    )\n",
    "    folium.GeoJson(\n",
    "        gdf,\n",
    "        name='CETESB',\n",
    "        smooth_factor=1.0,\n",
    "        zoom_on_click=False,\n",
    "        embed=False,\n",
    "        style_function=lambda x: {\n",
    "            'fillColor': color_polygon[x['properties'][col_categories]],\n",
    "            'color': color_polygon[x['properties'][col_categories]],\n",
    "            'weight': 1,\n",
    "            'fillOpacity': 0.3,\n",
    "        },\n",
    "        highlight_function=lambda x: {\n",
    "            'weight': 3,\n",
    "            'fillOpacity': 0.6,\n",
    "        },\n",
    "        tooltip=folium.features.GeoJsonTooltip(\n",
    "            fields=['municipio_nome', 'id_ctr'],\n",
    "            aliases=['Munícipio', 'CTR'],\n",
    "            sticky=True,\n",
    "            opacity=0.9,\n",
    "            direction='right',\n",
    "        ),\n",
    "        popup=folium.GeoJsonPopup(\n",
    "            ['popup'],\n",
    "            parse_html=False,\n",
    "            max_width='400',\n",
    "            show=False,\n",
    "            labels=False,\n",
    "            sticky=True,            \n",
    "        )        \n",
    "    ).add_to(m)\n",
    "\n",
    "    # Plugins\n",
    "    m.fit_bounds(m.get_bounds())\n",
    "    plugins.Fullscreen(\n",
    "        position='topleft',\n",
    "        title='Clique para Maximizar',\n",
    "        title_cancel='Mininizar',\n",
    "    ).add_to(m)\n",
    "    return m"
   ]
  },
  {
   "cell_type": "code",
   "execution_count": null,
   "id": "a437b5ea",
   "metadata": {},
   "outputs": [],
   "source": [
    "# Map without Bounds\n",
    "bbox = {\n",
    "    'max_lat': 0,\n",
    "    'max_lon': 0,\n",
    "    'min_lat': 0,\n",
    "    'min_lon': 0,\n",
    "}\n",
    "m = map_bomb(os.path.join('data', 'shps', 'sp_ctr.geojson'), bbox)\n",
    "\n",
    "# Map with Bounds\n",
    "bbox = {\n",
    "    'max_lat': m.get_bounds()[1][0],\n",
    "    'min_lat': m.get_bounds()[0][0],\n",
    "    'max_lon': m.get_bounds()[1][1],\n",
    "    'min_lon': m.get_bounds()[0][1],\n",
    "}\n",
    "m = map_bomb(os.path.join('data', 'shps', 'sp_ctr.geojson'), bbox)\n",
    "\n",
    "# Results\n",
    "print(bbox)\n",
    "m"
   ]
  },
  {
   "cell_type": "markdown",
   "id": "28dd8272",
   "metadata": {},
   "source": [
    "<br>\n",
    "\n",
    "# Save Map"
   ]
  },
  {
   "cell_type": "code",
   "execution_count": null,
   "id": "723c9d0f",
   "metadata": {},
   "outputs": [],
   "source": [
    "os.makedirs('maps', exist_ok=True)\n",
    "m.save(os.path.join('maps', 'cfb_map.html'))\n",
    "m.save(os.path.join('..', '..', '..', 'case_django', 'divadmin', 'templates', 'cfb_map.html'))"
   ]
  }
 ],
 "metadata": {
  "kernelspec": {
   "display_name": "Python 3.8.8 64-bit ('pablocarreira-py38': conda)",
   "name": "python388jvsc74a57bd09bde4318d33bee5af1789029e7f35995ee61b19449b62cc2f74d04037c860790"
  },
  "language_info": {
   "codemirror_mode": {
    "name": "ipython",
    "version": 3
   },
   "file_extension": ".py",
   "mimetype": "text/x-python",
   "name": "python",
   "nbconvert_exporter": "python",
   "pygments_lexer": "ipython3",
   "version": "3.8.8-final"
  },
  "toc-autonumbering": true
 },
 "nbformat": 4,
 "nbformat_minor": 5
}
