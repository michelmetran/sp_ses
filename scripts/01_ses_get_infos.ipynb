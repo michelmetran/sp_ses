{
 "cells": [
  {
   "cell_type": "markdown",
   "id": "cae360dd",
   "metadata": {},
   "source": [
    "<br>\n",
    "\n",
    "# Introdução"
   ]
  },
  {
   "cell_type": "code",
   "execution_count": null,
   "id": "b2b9f480",
   "metadata": {},
   "outputs": [],
   "source": [
    "import os\n",
    "import re\n",
    "import time\n",
    "import random\n",
    "import requests\n",
    "import numpy as np\n",
    "import pandas as pd\n",
    "import geopandas as gpd\n",
    "\n",
    "from bs4 import BeautifulSoup\n",
    "from osgeo import gdal, osr\n",
    "from tqdm.notebook import trange, tqdm"
   ]
  },
  {
   "cell_type": "markdown",
   "id": "b1bd0672",
   "metadata": {},
   "source": [
    "<br>\n",
    "\n",
    "# Dados Tabulares: DRS"
   ]
  },
  {
   "cell_type": "code",
   "execution_count": null,
   "id": "97b3dc8a",
   "metadata": {},
   "outputs": [],
   "source": [
    "# Diretorias Regionais de Saúde\n",
    "'https://www.saude.sp.gov.br/ses/institucional/departamentos-regionais-de-saude/regionais-de-saude'"
   ]
  },
  {
   "cell_type": "markdown",
   "id": "45c0c7b1",
   "metadata": {},
   "source": [
    "<br>\n",
    "\n",
    "# Dados Tabulares: GVS"
   ]
  },
  {
   "cell_type": "code",
   "execution_count": null,
   "id": "d4644860",
   "metadata": {},
   "outputs": [],
   "source": [
    "# GVS\n",
    "'http://www.cvs.saude.sp.gov.br/gvs.asp?dr_codigo=32'"
   ]
  },
  {
   "cell_type": "markdown",
   "id": "1652d096",
   "metadata": {},
   "source": [
    "<br>\n",
    "\n",
    "# Dados Tabulares: GVE"
   ]
  },
  {
   "cell_type": "code",
   "execution_count": null,
   "id": "08d3f7e6",
   "metadata": {},
   "outputs": [],
   "source": [
    "# GVE\n",
    "url = 'https://www.saude.sp.gov.br/cve-centro-de-vigilancia-epidemiologica-prof.-alexandre-vranjac/institucional/grupo-de-vigilancia-epidemiologica/grupo-de-vigilancia-epidemiologica'\n",
    "url = 'https://www.saude.sp.gov.br/resources/cve-centro-de-vigilancia-epidemiologica/institucional/gve/gvemum.htm'\n",
    "\n",
    "# Raspa o Site\n",
    "r = requests.get(url)\n",
    "soup = BeautifulSoup(r.content, 'html.parser')\n",
    "\n",
    "# Lista de Links\n",
    "list_urls = []\n",
    "for a in soup.find_all('area', href=True):\n",
    "    url = 'https://www.saude.sp.gov.br/resources/cve-centro-de-vigilancia-epidemiologica/institucional/gve/'\n",
    "    url_ = '{}{}'.format(url, a['href'])\n",
    "    list_urls.append(url_)\n",
    "\n",
    "# ddd\n",
    "list_urls = [x for x in list_urls if x.endswith('htm')]\n",
    "list_urls"
   ]
  },
  {
   "cell_type": "markdown",
   "id": "3f0ba5e9",
   "metadata": {},
   "source": [
    "<br>\n",
    "\n",
    "## Get Infos"
   ]
  },
  {
   "cell_type": "code",
   "execution_count": null,
   "id": "8b096ee1",
   "metadata": {},
   "outputs": [],
   "source": [
    "def get_first_part(url):\n",
    "    # Raspa o Site\n",
    "    r = requests.get(url)\n",
    "    soup = BeautifulSoup(r.content, 'html.parser')\n",
    "\n",
    "    # Get Table\n",
    "    df = pd.read_html(str(soup.find('table')))\n",
    "\n",
    "    # Set Table First Part\n",
    "    df = df[0][0]\n",
    "    df = pd.DataFrame(df)\n",
    "\n",
    "    df.loc[df[0] == 'ID_MUNIC', 'Test'] = True\n",
    "    df['Test'].bfill(axis=0, inplace=True)\n",
    "\n",
    "    # Seleciona apenas o Cabeçalho\n",
    "    df = df[df['Test'] == True].copy()\n",
    "\n",
    "    df = df[0:-2]\n",
    "    return list(df[0])"
   ]
  },
  {
   "cell_type": "code",
   "execution_count": null,
   "id": "8c16ad78",
   "metadata": {},
   "outputs": [],
   "source": [
    "url = list_urls[0]\n",
    "get_first_part(url)"
   ]
  },
  {
   "cell_type": "code",
   "execution_count": null,
   "id": "f5daa500",
   "metadata": {},
   "outputs": [],
   "source": [
    "list_first = []\n",
    "for url in list_urls:    \n",
    "    try:\n",
    "        first = get_first_part(url)    \n",
    "        list_first.append(first)\n",
    "        print('Sucesso Parte 1 {}'.format(url))\n",
    "    except:\n",
    "        print('Erro Parte 1 {}'.format(url))"
   ]
  },
  {
   "cell_type": "code",
   "execution_count": null,
   "id": "7147b853",
   "metadata": {},
   "outputs": [],
   "source": [
    "list_dict = []\n",
    "for lst in list_first:\n",
    "    #print(len(lst))\n",
    "    print(([x for x in lst if str(x).startswith('GVE')] or [''])[0])\n",
    "    dict_infos = {\n",
    "        'gve': ([x for x in lst if str(x).startswith('GVE')] or [''])[0],\n",
    "        'diretor': ([x for x in lst if str(x).startswith('Diretor:')] or [''])[0],\n",
    "        'endereco': ([x for x in lst if str(x).startswith('End.:')] or [''])[0],\n",
    "        'Fone': ([x for x in lst if str(x).startswith('Fone:')] or [''])[0],\n",
    "        'E-mail': ([x for x in lst if str(x).startswith('E-mail:')] or [''])[0],\n",
    "    }\n",
    "    list_dict.append(dict_infos)"
   ]
  },
  {
   "cell_type": "code",
   "execution_count": null,
   "id": "1a46e3e2",
   "metadata": {},
   "outputs": [],
   "source": [
    "# Create Dataframe\n",
    "df = pd.DataFrame(list_dict)\n",
    "\n",
    "# Strip All Data\n",
    "df = df.applymap(lambda x: x.strip(), na_action='ignore')\n",
    "\n",
    "# Preenche Brancas e Deleta\n",
    "df.replace(r'^\\s*$', np.nan, regex=True, inplace=True)\n",
    "df.dropna(how='all', inplace=True)\n",
    "\n",
    "# Divide Células em Duas Colunas\n",
    "df.loc[:,'E-mail'] = df['E-mail'].replace('\\xa0', ' ', regex=True)\n",
    "df[['email_1','email_2']] = df['E-mail'].str.split(' e ', expand=True)\n",
    "df.loc[:,'email_1'] = df.apply(lambda x: str(x['email_1']).split(':')[-1], axis=1)\n",
    "df.drop(['E-mail'], axis=1, inplace=True)\n",
    "\n",
    "# Divide Células em Duas Colunas\n",
    "df.loc[:,'Fone'] = df['Fone'].replace('\\xa0', ' ', regex=True).replace('//', '/', regex=True)\n",
    "df[['fone_1','fax_1']] = df['Fone'].str.split('Fax:', expand=True)\n",
    "df[['fax_1','fax_2']] = df['fax_1'].str.split('/', expand=True)\n",
    "df.loc[:,'fax_1'] = df['fax_1'].replace(' ramal 216', '', regex=True).replace('  ', ' ', regex=True)\n",
    "df['fax_1'].fillna(value=np.nan, inplace=True)\n",
    "df['fax_2'].fillna(value=np.nan, inplace=True)\n",
    "\n",
    "# Strip All Data\n",
    "df = df.applymap(lambda x: x.strip(), na_action='ignore')\n",
    "\n",
    "df.columns\n",
    "df\n",
    "list(set(df['fax_1']))"
   ]
  },
  {
   "cell_type": "code",
   "execution_count": null,
   "id": "93adc60c",
   "metadata": {},
   "outputs": [],
   "source": [
    "list(set(df['fax_2']))"
   ]
  },
  {
   "cell_type": "code",
   "execution_count": null,
   "id": "3d216209",
   "metadata": {},
   "outputs": [],
   "source": [
    "def ajust_telefones(tel_1, tel_2):\n",
    "    # A partir de um telefone com DDD, ajusta um segundo sem DDD\n",
    "    ddd = tel_1.split(' ')[0]\n",
    "    tel_2_fix = '{} {}'.format(ddd, tel_2)\n",
    "    return tel_2_fix"
   ]
  },
  {
   "cell_type": "code",
   "execution_count": null,
   "id": "2701956d",
   "metadata": {},
   "outputs": [],
   "source": [
    "ajust_telefones('(11) 3683-0866', '3683-1111')"
   ]
  },
  {
   "cell_type": "code",
   "execution_count": null,
   "id": "25f0fc1e",
   "metadata": {},
   "outputs": [],
   "source": [
    "df.apply(lambda x, y: ajust_telefones(df['fax_1'], df['fax_2']), axis=1)"
   ]
  },
  {
   "cell_type": "markdown",
   "id": "e093112e",
   "metadata": {},
   "source": [
    "<br>\n",
    "\n",
    "## Get Municípios"
   ]
  },
  {
   "cell_type": "code",
   "execution_count": null,
   "id": "3f354aac",
   "metadata": {},
   "outputs": [],
   "source": [
    "def rename_columns(x):\n",
    "    dict_rename = {\n",
    "        'CODRS'    : 'COD_RS',\n",
    "        'CODRRAS'  : 'COD_RS',\n",
    "        \n",
    "        'NOME RRAS': 'NOME',\n",
    "        'NOME RS'  : 'NOME',\n",
    "        \n",
    "        'COD MUN RRAS': 'COD MUN RS',\n",
    "    }\n",
    "    for k, v in dict_rename.items():\n",
    "        x = x.replace(k, v)\n",
    "    return x"
   ]
  },
  {
   "cell_type": "code",
   "execution_count": null,
   "id": "2841558a",
   "metadata": {},
   "outputs": [],
   "source": [
    "def get_second_part(url):\n",
    "    # Raspa o Site\n",
    "    r = requests.get(url)\n",
    "    soup = BeautifulSoup(r.content, 'html.parser')\n",
    "\n",
    "    # Get Table\n",
    "    df = pd.read_html(str(soup.find('table')))\n",
    "\n",
    "    # Set Table Socond Part\n",
    "    df = df[0]\n",
    "    df.loc[df[0] == 'ID_MUNIC', 'Test'] = True\n",
    "    df['Test'].ffill(axis=0, inplace=True)\n",
    "\n",
    "    # Seleciona apenas os Municípios\n",
    "    df = df[df['Test'] == True].copy()\n",
    "    df = df.iloc[:, 0:-1].copy()\n",
    "    \n",
    "    # Adjust Columns\n",
    "    df.columns = df.iloc[0]\n",
    "    df.drop(df.index[0], inplace=True)\n",
    "    df.rename(columns=lambda x: rename_columns(x), inplace=True)\n",
    "\n",
    "    return df"
   ]
  },
  {
   "cell_type": "code",
   "execution_count": null,
   "id": "a8d1f97e",
   "metadata": {},
   "outputs": [],
   "source": [
    "url = list_urls[0]\n",
    "get_second_part(url)"
   ]
  },
  {
   "cell_type": "code",
   "execution_count": null,
   "id": "943df107",
   "metadata": {},
   "outputs": [],
   "source": [
    "list_second = []\n",
    "for url in list_urls:\n",
    "    try:\n",
    "        second = get_second_part(url)\n",
    "        list_second.append(second)        \n",
    "        print('Sucesso Parte 2 {}'.format(url))\n",
    "    except:\n",
    "        print('Erro Parte 2 {}'.format(url))"
   ]
  },
  {
   "cell_type": "code",
   "execution_count": null,
   "id": "b5e39ca1",
   "metadata": {},
   "outputs": [],
   "source": [
    "df = pd.concat(list_second)\n",
    "df.to_csv(\n",
    "    os.path.join('data', 'tabs', 'tab_municipio_cvs.csv'),\n",
    "    index=False,\n",
    ")"
   ]
  },
  {
   "cell_type": "code",
   "execution_count": null,
   "id": "78b6b25f",
   "metadata": {},
   "outputs": [],
   "source": []
  },
  {
   "cell_type": "code",
   "execution_count": null,
   "id": "659077a7",
   "metadata": {},
   "outputs": [],
   "source": []
  },
  {
   "cell_type": "code",
   "execution_count": null,
   "id": "ca4d5ff2",
   "metadata": {},
   "outputs": [],
   "source": []
  },
  {
   "cell_type": "code",
   "execution_count": null,
   "id": "58d05066",
   "metadata": {},
   "outputs": [],
   "source": []
  },
  {
   "cell_type": "code",
   "execution_count": null,
   "id": "8fbc94b6",
   "metadata": {},
   "outputs": [],
   "source": []
  },
  {
   "cell_type": "code",
   "execution_count": null,
   "id": "6cc3ee36",
   "metadata": {},
   "outputs": [],
   "source": []
  },
  {
   "cell_type": "code",
   "execution_count": null,
   "id": "c59f0254",
   "metadata": {},
   "outputs": [],
   "source": []
  },
  {
   "cell_type": "code",
   "execution_count": null,
   "id": "b0d628aa",
   "metadata": {},
   "outputs": [],
   "source": [
    "df"
   ]
  },
  {
   "cell_type": "code",
   "execution_count": null,
   "id": "5061e290",
   "metadata": {},
   "outputs": [],
   "source": []
  },
  {
   "cell_type": "code",
   "execution_count": null,
   "id": "da19ff25",
   "metadata": {},
   "outputs": [],
   "source": []
  },
  {
   "cell_type": "code",
   "execution_count": null,
   "id": "7bdba7eb",
   "metadata": {},
   "outputs": [],
   "source": []
  },
  {
   "cell_type": "code",
   "execution_count": null,
   "id": "0780fedc",
   "metadata": {},
   "outputs": [],
   "source": []
  },
  {
   "cell_type": "markdown",
   "id": "0ba6c8f0",
   "metadata": {},
   "source": [
    "## Scrapy *Site*"
   ]
  },
  {
   "cell_type": "code",
   "execution_count": null,
   "id": "0e30b9e5",
   "metadata": {},
   "outputs": [],
   "source": [
    "url = 'https://www.infraestruturameioambiente.sp.gov.br/cfb/contatos/'\n",
    "r = requests.get(url)\n",
    "soup = BeautifulSoup(r.content, 'html.parser')\n",
    "tag = soup.find('div', {'id': 'content'}).text"
   ]
  },
  {
   "cell_type": "code",
   "execution_count": null,
   "id": "475e1ab7",
   "metadata": {},
   "outputs": [],
   "source": [
    "list_main = []\n",
    "for i in str(tag).split('\\n'):\n",
    "    if i == '':\n",
    "        pass\n",
    "    else:\n",
    "        list_main.append(i)\n",
    "\n",
    "# Create Table\n",
    "df = pd.DataFrame({'data': list_main})\n",
    "print(df[0:100])"
   ]
  },
  {
   "cell_type": "markdown",
   "id": "093788d6",
   "metadata": {},
   "source": [
    "## Ajusta de Tabela"
   ]
  },
  {
   "cell_type": "code",
   "execution_count": null,
   "id": "320d1997",
   "metadata": {},
   "outputs": [],
   "source": [
    "# Define os marcos iniciais\n",
    "df['interval'] = df.apply(lambda x: x.name if 'CTR' in x['data'] else np.nan, axis=1)\n",
    "\n",
    "# Remove Espaços em Branco\n",
    "df['data'] = df.apply(lambda x: np.nan if x['data'] == '\\xa0' else x, axis=1)\n",
    "\n",
    "# Preenche Coluna\n",
    "df['interval']  = df['interval'].ffill()\n",
    "\n",
    "# Elimina Linhas com NaN\n",
    "df = df.dropna()\n",
    "\n",
    "# Result\n",
    "df.head(10)"
   ]
  },
  {
   "cell_type": "code",
   "execution_count": null,
   "id": "4d081b02",
   "metadata": {},
   "outputs": [],
   "source": [
    "list_temps = []\n",
    "list_for = list(set(df['interval']))\n",
    "print(list_for)\n",
    "for i in list_for:\n",
    "    df_temp = df[df['interval'] == i]\n",
    "    list_temp = list(df_temp['data'])    \n",
    "    list_temps.append(list_temp)"
   ]
  },
  {
   "cell_type": "code",
   "execution_count": null,
   "id": "18a02c33",
   "metadata": {},
   "outputs": [],
   "source": [
    "for i in list_temps:    \n",
    "    if len(i)==7:\n",
    "        i.insert(5, None)"
   ]
  },
  {
   "cell_type": "code",
   "execution_count": null,
   "id": "aa3dfddf",
   "metadata": {},
   "outputs": [],
   "source": [
    "df = pd.DataFrame(\n",
    "    list_temps,\n",
    "    columns = [\n",
    "        'id_ctr',\n",
    "        'end',\n",
    "        'bairro_cidade',\n",
    "        'cep',\n",
    "        'telefone_1',\n",
    "        'telefone_2',\n",
    "        'email',\n",
    "        'diretor',\n",
    "    ])\n",
    "\n",
    "df.head()"
   ]
  },
  {
   "cell_type": "code",
   "execution_count": null,
   "id": "f9716a05",
   "metadata": {},
   "outputs": [],
   "source": [
    "# Remove tudo que vem antes do :\n",
    "df = df.applymap(lambda x: x.split(':')[-1], na_action='ignore')\n",
    "df"
   ]
  },
  {
   "cell_type": "code",
   "execution_count": null,
   "id": "af22c679",
   "metadata": {},
   "outputs": [],
   "source": [
    "for i in df.columns:\n",
    "    print(set(df[i]))"
   ]
  },
  {
   "cell_type": "markdown",
   "id": "fa768881",
   "metadata": {},
   "source": [
    "## Funções"
   ]
  },
  {
   "cell_type": "code",
   "execution_count": null,
   "id": "d28335b6",
   "metadata": {},
   "outputs": [],
   "source": [
    "def rename_nome(x):\n",
    "    x = x.title()\n",
    "    x = x.strip()\n",
    "    dict_rename = {\n",
    "        # Encoding\n",
    "        '  '  : ' ',\n",
    "        \n",
    "        # Basics\n",
    "        ' Com '  : ' com ',\n",
    "        ' Sobre ': ' sobre ',\n",
    "        ' Da '   : ' da ',\n",
    "        ' De '   : ' de ',\n",
    "        ' Do '   : ' do ',\n",
    "        ' Das '  : ' das ',\n",
    "        ' Dos '  : ' dos ',\n",
    "        ' A '    : ' a ',\n",
    "        ' As '   : ' as ',\n",
    "        ' Ao '   : ' ao ',\n",
    "        ' Aos '  : ' aos ',\n",
    "        ' E '    : ' e ',\n",
    "        ' O '    : ' o ',\n",
    "        ' Os '   : ' os ',\n",
    "        \n",
    "        # Erros\n",
    "        '1ºten'  : '1º Ten',\n",
    "        \n",
    "        # Abreviações\n",
    "        'Subten ' : 'Subtenente ',\n",
    "        'Sub Ten' : 'Subtenente ',\n",
    "        'Cap '    : 'Capitão ',\n",
    "        'Ten '    : 'Tenente ',\n",
    "        'Maj '    : 'Major ',\n",
    "        'Cel '    : 'Coronel ',        \n",
    "        'Sgt '    : 'Sargento ',\n",
    "        ' Pm '    : ' PM ',\n",
    "        '–': '-',\n",
    "        'Registro/Sp': 'Registro - Sp',\n",
    "        'São Bernardo do Campo- Sp': 'São Bernardo do Campo - Sp',\n",
    "        ' - Sp': '',\n",
    "        \n",
    "        'R.': 'Rua',\n",
    "        'Av.': 'Avenida',\n",
    "        'Avenida Rodrigues Alves - Quadra 38 - Nº 138': 'Avenida Rodrigues Alves, 138 - Quadra 38',\n",
    "        '133, Sala 23': '133 - Sala 23',\n",
    "        'Joãothiago': 'João Thiago',\n",
    "\n",
    "        # Empty\n",
    "        'None' : '',\n",
    "        'none' : '',\n",
    "    }\n",
    "    for k, v in dict_rename.items():\n",
    "        x = x.replace(k, v)\n",
    "    x = x.replace('  ', ' ')\n",
    "    return x.strip()"
   ]
  },
  {
   "cell_type": "markdown",
   "id": "5e48be50",
   "metadata": {},
   "source": [
    "## Renomeando Campos em Colunas"
   ]
  },
  {
   "cell_type": "code",
   "execution_count": null,
   "id": "9081d65d",
   "metadata": {},
   "outputs": [],
   "source": [
    "df['bairro_cidade'] = df['bairro_cidade'].astype(str).apply(lambda x: rename_nome(x))\n",
    "df[['bairro','municipio_sede']] = df['bairro_cidade'].str.split('-', expand=True)\n",
    "\n",
    "df['bairro'] = df['bairro'].astype(str).apply(lambda x: rename_nome(x))\n",
    "df['municipio_sede'] = df['municipio_sede'].astype(str).apply(lambda x: rename_nome(x))"
   ]
  },
  {
   "cell_type": "code",
   "execution_count": null,
   "id": "b2daeffd",
   "metadata": {},
   "outputs": [],
   "source": [
    "df['telefone_1'] = df['telefone_1'].astype(str).apply(lambda x: rename_nome(x))\n",
    "df['telefone_2'] = df['telefone_2'].astype(str).apply(lambda x: rename_nome(x))"
   ]
  },
  {
   "cell_type": "code",
   "execution_count": null,
   "id": "c0ea4018",
   "metadata": {},
   "outputs": [],
   "source": [
    "df['diretor'] = df['diretor'].astype(str).apply(lambda x: rename_nome(x))"
   ]
  },
  {
   "cell_type": "code",
   "execution_count": null,
   "id": "3d66770e",
   "metadata": {},
   "outputs": [],
   "source": [
    "df['cep'] = df['cep'].astype(str).apply(lambda x: rename_nome(x))\n",
    "df['cep'] = df['cep'].astype(str).apply(lambda x: x.strip().replace('Cep', ''))\n",
    "df['cep'] = df['cep'].astype(str).apply(lambda x: rename_nome(x))"
   ]
  },
  {
   "cell_type": "code",
   "execution_count": null,
   "id": "12e771e5",
   "metadata": {},
   "outputs": [],
   "source": [
    "df['id_ctr'] = df['id_ctr'].astype(str).apply(lambda x: rename_nome(x))\n",
    "df['id_ctr'] = df['id_ctr'].astype(str).apply(lambda x: x.rsplit('-', 1)[0])\n",
    "df['id_ctr'] = df['id_ctr'].astype(str).apply(lambda x: x.upper())\n",
    "df['id_ctr'] = df['id_ctr'].astype(str).apply(lambda x: x.strip().replace(' ', ''))"
   ]
  },
  {
   "cell_type": "code",
   "execution_count": null,
   "id": "836cf830",
   "metadata": {},
   "outputs": [],
   "source": [
    "df['end'] = df['end'].astype(str).apply(lambda x: rename_nome(x))\n",
    "df['endereco'] = df['end'].astype(str).apply(lambda x: x.split(',', 1)[0])\n",
    "df['numero'] = df['end'].astype(str).apply(lambda x: x.split(',', 1)[1])\n",
    "df[['numero','complemento']] = df['numero'].str.split('-', n=1, expand=True)\n",
    "\n",
    "df['numero'] = df['numero'].astype(str).apply(lambda x: rename_nome(x))\n",
    "df['complemento'] = df['complemento'].astype(str).apply(lambda x: rename_nome(x))\n",
    "\n",
    "df"
   ]
  },
  {
   "cell_type": "markdown",
   "id": "0dad7a4c",
   "metadata": {},
   "source": [
    "## Reordena Colunas"
   ]
  },
  {
   "cell_type": "code",
   "execution_count": null,
   "id": "df6e7711",
   "metadata": {},
   "outputs": [],
   "source": [
    "df = df[[\n",
    "    'id_ctr',\n",
    "    'endereco',\n",
    "    'numero',\n",
    "    'complemento',\n",
    "    'cep',\n",
    "    'bairro',\n",
    "    'municipio_sede',\n",
    "    'telefone_1',\n",
    "    'telefone_2',\n",
    "    'email',\n",
    "    'diretor'\n",
    "]]\n",
    "\n",
    "df"
   ]
  },
  {
   "cell_type": "markdown",
   "id": "a587c18a",
   "metadata": {},
   "source": [
    "## Salva"
   ]
  },
  {
   "cell_type": "code",
   "execution_count": null,
   "id": "0663e8a9",
   "metadata": {},
   "outputs": [],
   "source": [
    "# Results\n",
    "df.to_csv(\n",
    "    os.path.join('data', 'tabs', 'tab_ctr.csv'),\n",
    "    index=False,\n",
    ")\n",
    "df"
   ]
  },
  {
   "cell_type": "code",
   "execution_count": null,
   "id": "15f03b9f",
   "metadata": {},
   "outputs": [],
   "source": []
  }
 ],
 "metadata": {
  "kernelspec": {
   "display_name": "Python 3.10.6 ('pablocarreira-lastest')",
   "language": "python",
   "name": "python3"
  },
  "language_info": {
   "codemirror_mode": {
    "name": "ipython",
    "version": 3
   },
   "file_extension": ".py",
   "mimetype": "text/x-python",
   "name": "python",
   "nbconvert_exporter": "python",
   "pygments_lexer": "ipython3",
   "version": "3.10.6"
  },
  "toc-autonumbering": true,
  "vscode": {
   "interpreter": {
    "hash": "4fe01b1e548a48625e93ad3ec9d7217eaa82c8c5a1273b2b8580787b5d806f08"
   }
  }
 },
 "nbformat": 4,
 "nbformat_minor": 5
}
